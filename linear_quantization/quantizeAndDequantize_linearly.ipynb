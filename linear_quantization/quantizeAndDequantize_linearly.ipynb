{
  "nbformat": 4,
  "nbformat_minor": 0,
  "metadata": {
    "colab": {
      "provenance": [],
      "authorship_tag": "ABX9TyNkoIDKSy5SHW6fnwNLrt15",
      "include_colab_link": true
    },
    "kernelspec": {
      "name": "python3",
      "display_name": "Python 3"
    },
    "language_info": {
      "name": "python"
    }
  },
  "cells": [
    {
      "cell_type": "markdown",
      "metadata": {
        "id": "view-in-github",
        "colab_type": "text"
      },
      "source": [
        "<a href=\"https://colab.research.google.com/github/Mahdi-Golizadeh/MODEL-COMPRESSION/blob/main/linear_quantization/quantizeAndDequantize_linearly.ipynb\" target=\"_parent\"><img src=\"https://colab.research.google.com/assets/colab-badge.svg\" alt=\"Open In Colab\"/></a>"
      ]
    },
    {
      "cell_type": "markdown",
      "source": [
        "this notebook is just a simple implementation of linear quantization. just to get a sense of the proess"
      ],
      "metadata": {
        "id": "gZ_MG_yLBX7A"
      }
    },
    {
      "cell_type": "code",
      "execution_count": 1,
      "metadata": {
        "id": "MH1TU2R38uWQ"
      },
      "outputs": [],
      "source": [
        "import torch"
      ]
    },
    {
      "cell_type": "markdown",
      "source": [
        "to have linear quantization with zero point and arbitrary scale"
      ],
      "metadata": {
        "id": "xf2D68pn9CU7"
      }
    },
    {
      "cell_type": "code",
      "source": [
        "def linear_quantization(tensor, scale, zero_point, dtype= torch.int8):\n",
        "  # we first need to scale and zero center the input tensor\n",
        "  scaled_shifted_tensor = tensor / scale + zero_point\n",
        "  #now round the output of previous step\n",
        "  round_tensor = torch.round(scaled_shifted_tensor)\n",
        "  #calculate the max and min of the dtype\n",
        "  q_min = torch.iinfo(dtype).min\n",
        "  q_max = torch.iinfo(dtype).max\n",
        "  q_tensor = round_tensor.clamp(q_min, q_max).to(dtype)\n",
        "  return q_tensor"
      ],
      "metadata": {
        "id": "uE5cOQoL86U-"
      },
      "execution_count": 2,
      "outputs": []
    },
    {
      "cell_type": "markdown",
      "source": [
        "now to test the linear quantization funtion"
      ],
      "metadata": {
        "id": "qzLBNrLH-_W9"
      }
    },
    {
      "cell_type": "code",
      "source": [
        "input_tensor = torch.randn((3, 3)) * 100"
      ],
      "metadata": {
        "id": "SOPltCDE-7b1"
      },
      "execution_count": 4,
      "outputs": []
    },
    {
      "cell_type": "markdown",
      "source": [
        "initiate the zero point and scale randomly"
      ],
      "metadata": {
        "id": "sb8mBuRX_bEy"
      }
    },
    {
      "cell_type": "code",
      "source": [
        "scale = 3.5\n",
        "zero_point = -70"
      ],
      "metadata": {
        "id": "2dFlYiBo_RgT"
      },
      "execution_count": 5,
      "outputs": []
    },
    {
      "cell_type": "code",
      "source": [
        "quantized_tensor = linear_quantization(\n",
        "    input_tensor,\n",
        "    scale,\n",
        "    zero_point,\n",
        ")\n",
        "quantized_tensor"
      ],
      "metadata": {
        "colab": {
          "base_uri": "https://localhost:8080/"
        },
        "id": "Xg2cF3lT_rs2",
        "outputId": "43609f16-00fb-47cb-a76e-54193ea1088a"
      },
      "execution_count": 6,
      "outputs": [
        {
          "output_type": "execute_result",
          "data": {
            "text/plain": [
              "tensor([[ -42,  -50,  -66],\n",
              "        [ -87,  -77,  -72],\n",
              "        [-114,  -92,  -75]], dtype=torch.int8)"
            ]
          },
          "metadata": {},
          "execution_count": 6
        }
      ]
    },
    {
      "cell_type": "markdown",
      "source": [
        "now the dequantize process"
      ],
      "metadata": {
        "id": "GFcmc_V_ALiM"
      }
    },
    {
      "cell_type": "code",
      "source": [
        "def linear_dequantization(quantized_tensor, zero_point):\n",
        "  return scale * (quantized_tensor.float() - zero_point)"
      ],
      "metadata": {
        "id": "nudHeYQLAFmh"
      },
      "execution_count": 7,
      "outputs": []
    },
    {
      "cell_type": "code",
      "source": [
        "dequantized_tensor = linear_dequantization(\n",
        "    quantized_tensor,\n",
        "    zero_point\n",
        ")\n",
        "dequantized_tensor"
      ],
      "metadata": {
        "colab": {
          "base_uri": "https://localhost:8080/"
        },
        "id": "TMZycdQiAv1i",
        "outputId": "a5a7d7f4-e33b-440e-d9d2-97d97d4e183f"
      },
      "execution_count": 9,
      "outputs": [
        {
          "output_type": "execute_result",
          "data": {
            "text/plain": [
              "tensor([[  98.0000,   70.0000,   14.0000],\n",
              "        [ -59.5000,  -24.5000,   -7.0000],\n",
              "        [-154.0000,  -77.0000,  -17.5000]])"
            ]
          },
          "metadata": {},
          "execution_count": 9
        }
      ]
    },
    {
      "cell_type": "code",
      "source": [
        "dequantized_tensor, input_tensor"
      ],
      "metadata": {
        "colab": {
          "base_uri": "https://localhost:8080/"
        },
        "id": "xNQdvDhMA9EY",
        "outputId": "b1ff0e1f-475e-42d8-89e6-a6075ccc1cfc"
      },
      "execution_count": 10,
      "outputs": [
        {
          "output_type": "execute_result",
          "data": {
            "text/plain": [
              "(tensor([[  98.0000,   70.0000,   14.0000],\n",
              "         [ -59.5000,  -24.5000,   -7.0000],\n",
              "         [-154.0000,  -77.0000,  -17.5000]]),\n",
              " tensor([[  97.3035,   71.4544,   14.5617],\n",
              "         [ -59.4350,  -23.8862,   -8.2211],\n",
              "         [-152.5610,  -76.4821,  -16.8555]]))"
            ]
          },
          "metadata": {},
          "execution_count": 10
        }
      ]
    },
    {
      "cell_type": "code",
      "source": [],
      "metadata": {
        "id": "3n58_O6jBTaO"
      },
      "execution_count": null,
      "outputs": []
    }
  ]
}
{
  "nbformat": 4,
  "nbformat_minor": 0,
  "metadata": {
    "colab": {
      "provenance": [],
      "authorship_tag": "ABX9TyMjKrWRcKOjvf50iHe2Mcah",
      "include_colab_link": true
    },
    "kernelspec": {
      "name": "python3",
      "display_name": "Python 3"
    },
    "language_info": {
      "name": "python"
    }
  },
  "cells": [
    {
      "cell_type": "markdown",
      "metadata": {
        "id": "view-in-github",
        "colab_type": "text"
      },
      "source": [
        "<a href=\"https://colab.research.google.com/github/Mahdi-Golizadeh/MODEL-COMPRESSION/blob/main/linear_quantization/quantizeAndDequantize_linearly.ipynb\" target=\"_parent\"><img src=\"https://colab.research.google.com/assets/colab-badge.svg\" alt=\"Open In Colab\"/></a>"
      ]
    },
    {
      "cell_type": "markdown",
      "source": [
        "this notebook is just a simple implementation of linear quantization. just to get a sense of the proess"
      ],
      "metadata": {
        "id": "gZ_MG_yLBX7A"
      }
    },
    {
      "cell_type": "code",
      "execution_count": 1,
      "metadata": {
        "id": "MH1TU2R38uWQ"
      },
      "outputs": [],
      "source": [
        "import torch\n",
        "import seaborn as sns\n",
        "import matplotlib.pyplot as plt\n",
        "from matplotlib.colors import ListedColormap"
      ]
    },
    {
      "cell_type": "markdown",
      "source": [
        "utility function for plotting the tensors"
      ],
      "metadata": {
        "id": "x8JwbCkkDHif"
      }
    },
    {
      "cell_type": "code",
      "source": [
        "def plot_matrix(tensor, ax, title, vmin=0, vmax=1, cmap=None):\n",
        "    \"\"\"\n",
        "    Plot a heatmap of tensors using seaborn\n",
        "    \"\"\"\n",
        "    sns.heatmap(tensor.cpu().numpy(), ax=ax, vmin=vmin, vmax=vmax, cmap=cmap, annot=True, fmt=\".2f\", cbar=False)\n",
        "    ax.set_title(title)\n",
        "    ax.set_yticklabels([])\n",
        "    ax.set_xticklabels([])\n",
        "\n",
        "\n",
        "def plot_quantization_errors(original_tensor, quantized_tensor, dequantized_tensor, dtype = torch.int8, n_bits = 8):\n",
        "    \"\"\"\n",
        "    A method that plots 4 matrices, the original tensor, the quantized tensor\n",
        "    the de-quantized tensor and the error tensor.\n",
        "    \"\"\"\n",
        "    # Get a figure of 4 plots\n",
        "    fig, axes = plt.subplots(1, 4, figsize=(15, 4))\n",
        "\n",
        "    # Plot the first matrix\n",
        "    plot_matrix(original_tensor, axes[0], 'Original Tensor', cmap=ListedColormap(['white']))\n",
        "\n",
        "    # Get the quantization range and plot the quantized tensor\n",
        "    q_min, q_max = torch.iinfo(dtype).min, torch.iinfo(dtype).max\n",
        "    plot_matrix(quantized_tensor, axes[1], f'{n_bits}-bit Linear Quantized Tensor', vmin=q_min, vmax=q_max, cmap='coolwarm')\n",
        "\n",
        "    # Plot the de-quantized tensors\n",
        "    plot_matrix(dequantized_tensor, axes[2], 'Dequantized Tensor', cmap='coolwarm')\n",
        "\n",
        "    # Get the quantization errors\n",
        "    q_error_tensor = abs(original_tensor - dequantized_tensor)\n",
        "    plot_matrix(q_error_tensor, axes[3], 'Quantization Error Tensor', cmap=ListedColormap(['white']))\n",
        "\n",
        "    fig.tight_layout()\n",
        "    plt.show()"
      ],
      "metadata": {
        "id": "xIcdtlEoDLtp"
      },
      "execution_count": 2,
      "outputs": []
    },
    {
      "cell_type": "markdown",
      "source": [
        "to have linear quantization with zero point and arbitrary scale"
      ],
      "metadata": {
        "id": "xf2D68pn9CU7"
      }
    },
    {
      "cell_type": "code",
      "source": [
        "def linear_quantization(tensor, scale, zero_point, dtype= torch.int8):\n",
        "  # we first need to scale and zero center the input tensor\n",
        "  scaled_shifted_tensor = tensor / scale + zero_point\n",
        "  #now round the output of previous step\n",
        "  round_tensor = torch.round(scaled_shifted_tensor)\n",
        "  #calculate the max and min of the dtype\n",
        "  q_min = torch.iinfo(dtype).min\n",
        "  q_max = torch.iinfo(dtype).max\n",
        "  q_tensor = round_tensor.clamp(q_min, q_max).to(dtype)\n",
        "  return q_tensor"
      ],
      "metadata": {
        "id": "uE5cOQoL86U-"
      },
      "execution_count": 3,
      "outputs": []
    },
    {
      "cell_type": "markdown",
      "source": [
        "now to test the linear quantization funtion"
      ],
      "metadata": {
        "id": "qzLBNrLH-_W9"
      }
    },
    {
      "cell_type": "code",
      "source": [
        "input_tensor = torch.randn((3, 3)) * 100"
      ],
      "metadata": {
        "id": "SOPltCDE-7b1"
      },
      "execution_count": 4,
      "outputs": []
    },
    {
      "cell_type": "markdown",
      "source": [
        "initiate the zero point and scale randomly"
      ],
      "metadata": {
        "id": "sb8mBuRX_bEy"
      }
    },
    {
      "cell_type": "code",
      "source": [
        "scale = 3.5\n",
        "zero_point = -70"
      ],
      "metadata": {
        "id": "2dFlYiBo_RgT"
      },
      "execution_count": 5,
      "outputs": []
    },
    {
      "cell_type": "code",
      "source": [
        "quantized_tensor = linear_quantization(\n",
        "    input_tensor,\n",
        "    scale,\n",
        "    zero_point,\n",
        ")\n",
        "quantized_tensor"
      ],
      "metadata": {
        "colab": {
          "base_uri": "https://localhost:8080/"
        },
        "id": "Xg2cF3lT_rs2",
        "outputId": "053256da-25a6-44dc-d6c7-7371d233c9b5"
      },
      "execution_count": 6,
      "outputs": [
        {
          "output_type": "execute_result",
          "data": {
            "text/plain": [
              "tensor([[ -47, -108,  -74],\n",
              "        [ -20,  -70, -128],\n",
              "        [ -24,  -91,  -68]], dtype=torch.int8)"
            ]
          },
          "metadata": {},
          "execution_count": 6
        }
      ]
    },
    {
      "cell_type": "markdown",
      "source": [
        "now the dequantize process"
      ],
      "metadata": {
        "id": "GFcmc_V_ALiM"
      }
    },
    {
      "cell_type": "code",
      "source": [
        "def linear_dequantization(quantized_tensor, zero_point):\n",
        "  return scale * (quantized_tensor.float() - zero_point)"
      ],
      "metadata": {
        "id": "nudHeYQLAFmh"
      },
      "execution_count": 7,
      "outputs": []
    },
    {
      "cell_type": "code",
      "source": [
        "dequantized_tensor = linear_dequantization(\n",
        "    quantized_tensor,\n",
        "    zero_point\n",
        ")\n",
        "dequantized_tensor"
      ],
      "metadata": {
        "colab": {
          "base_uri": "https://localhost:8080/"
        },
        "id": "TMZycdQiAv1i",
        "outputId": "30c01bd6-3f60-47d7-ac15-c059ff21ee4d"
      },
      "execution_count": 8,
      "outputs": [
        {
          "output_type": "execute_result",
          "data": {
            "text/plain": [
              "tensor([[  80.5000, -133.0000,  -14.0000],\n",
              "        [ 175.0000,    0.0000, -203.0000],\n",
              "        [ 161.0000,  -73.5000,    7.0000]])"
            ]
          },
          "metadata": {},
          "execution_count": 8
        }
      ]
    },
    {
      "cell_type": "code",
      "source": [
        "dequantized_tensor, input_tensor"
      ],
      "metadata": {
        "colab": {
          "base_uri": "https://localhost:8080/"
        },
        "id": "xNQdvDhMA9EY",
        "outputId": "3d5cdaf1-a8a1-4fca-8485-5d72febd4340"
      },
      "execution_count": 9,
      "outputs": [
        {
          "output_type": "execute_result",
          "data": {
            "text/plain": [
              "(tensor([[  80.5000, -133.0000,  -14.0000],\n",
              "         [ 175.0000,    0.0000, -203.0000],\n",
              "         [ 161.0000,  -73.5000,    7.0000]]),\n",
              " tensor([[  81.4230, -134.3775,  -13.7492],\n",
              "         [ 175.9451,    0.2118, -209.0108],\n",
              "         [ 162.4221,  -74.2045,    6.0794]]))"
            ]
          },
          "metadata": {},
          "execution_count": 9
        }
      ]
    },
    {
      "cell_type": "markdown",
      "source": [
        "comparing the result of quantization"
      ],
      "metadata": {
        "id": "xPfMtN0mDRLI"
      }
    },
    {
      "cell_type": "code",
      "source": [
        "plot_quantization_errors(input_tensor,\n",
        "                         quantized_tensor,\n",
        "                         dequantized_tensor)"
      ],
      "metadata": {
        "id": "3n58_O6jBTaO",
        "colab": {
          "base_uri": "https://localhost:8080/",
          "height": 294
        },
        "outputId": "6eee97eb-bd60-4b76-ada3-9f55b09c24f7"
      },
      "execution_count": 10,
      "outputs": [
        {
          "output_type": "display_data",
          "data": {
            "text/plain": [
              "<Figure size 1500x400 with 4 Axes>"
            ],
            "image/png": "[encoded data removed]"
          },
          "metadata": {}
        }
      ]
    },
    {
      "cell_type": "markdown",
      "source": [
        "MSE calculation"
      ],
      "metadata": {
        "id": "W27DS2R8Du7p"
      }
    },
    {
      "cell_type": "code",
      "source": [
        "(dequantized_tensor - input_tensor).square().mean()"
      ],
      "metadata": {
        "colab": {
          "base_uri": "https://localhost:8080/"
        },
        "id": "02cYz031Dmts",
        "outputId": "8d973379-427c-4536-95ee-3a95ed64f2eb"
      },
      "execution_count": 11,
      "outputs": [
        {
          "output_type": "execute_result",
          "data": {
            "text/plain": [
              "tensor(4.8052)"
            ]
          },
          "metadata": {},
          "execution_count": 11
        }
      ]
    },
    {
      "cell_type": "code",
      "source": [],
      "metadata": {
        "id": "AbXRwV2UD_6_"
      },
      "execution_count": null,
      "outputs": []
    }
  ]
}